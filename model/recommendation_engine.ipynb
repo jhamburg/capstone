{
 "cells": [
  {
   "cell_type": "code",
   "execution_count": 1,
   "metadata": {},
   "outputs": [],
   "source": [
    "import pandas as pd\n",
    "import numpy as np\n",
    "import os\n",
    "import pickle\n",
    "\n",
    "# Recommendation Model\n",
    "from sklearn.metrics.pairwise import pairwise_distances, cosine_similarity, euclidean_distances, manhattan_distances\n",
    "from sklearn.preprocessing import MinMaxScaler, StandardScaler\n",
    "\n",
    "from IPython.core.debugger import set_trace "
   ]
  },
  {
   "cell_type": "code",
   "execution_count": 2,
   "metadata": {},
   "outputs": [],
   "source": [
    "# load objects\n",
    "dataPath = '../data/'\n",
    "\n",
    "finalData = pd.read_pickle(os.path.join(dataPath, 'final_data.pkl'))\n",
    "modelData = pd.read_pickle(os.path.join(dataPath, 'model_data.pkl'))"
   ]
  },
  {
   "cell_type": "code",
   "execution_count": 3,
   "metadata": {},
   "outputs": [],
   "source": [
    "indices = pd.Series(finalData.index, index=finalData['unique_name'])"
   ]
  },
  {
   "cell_type": "code",
   "execution_count": 4,
   "metadata": {},
   "outputs": [],
   "source": [
    "def get_recommendations(recipeName, similarityMat, indices=indices,\n",
    "                        topN=10, data=finalData):\n",
    "    # Get the index of the movie that matches the title\n",
    "    idx = indices[recipeName]\n",
    "\n",
    "    # Get the pairwsie similarity scores of all movies with that movie\n",
    "    sim_scores = list(enumerate(similarityMat[idx]))\n",
    "\n",
    "    # Sort the movies based on the similarity scores\n",
    "    sim_scores = sorted(sim_scores, key=lambda x: x[1], reverse=True)\n",
    "\n",
    "    # Get the scores of the 10 most similar recipe\n",
    "    sim_scores = sim_scores[1:(topN + 1)]\n",
    "\n",
    "    # Get the recipe indices\n",
    "    recipe_indices = [i[0] for i in sim_scores]\n",
    "\n",
    "    # Return the top 10 most similar movies\n",
    "    return data['unique_name'].iloc[recipe_indices]\n",
    "#     return data.iloc[recipe_indices]"
   ]
  },
  {
   "cell_type": "code",
   "execution_count": 7,
   "metadata": {},
   "outputs": [],
   "source": [
    "# similarityMatEuclidean = pairwise_distances(modelData, metric='euclidean')\n",
    "# np.save(os.path.join(dataPath, 'euclidean_sim_mat'), similarityMatEuclidean)\n",
    "\n",
    "similarityMatEuclidean = np.load(os.path.join(dataPath, 'euclidean_sim_mat.npy'))"
   ]
  },
  {
   "cell_type": "code",
   "execution_count": null,
   "metadata": {},
   "outputs": [],
   "source": [
    "similarityMatManhatten = pairwise_distances(modelData, metric='manhattan')\n",
    "np.save(os.path.join(dataPath, 'manhatten_sim_mat'), similarityMatManhatten)\n",
    "\n",
    "# similarityMatManhatten = np.load(os.path.join(dataPath, 'manhatten_sim_mat.npy'))"
   ]
  },
  {
   "cell_type": "code",
   "execution_count": 8,
   "metadata": {},
   "outputs": [],
   "source": [
    "# similarityMatCosine = pairwise_distances(modelData, metric='cosine')\n",
    "# np.save(os.path.join(dataPath, 'cosine_sim_mat'), similarityMatCosine)\n",
    "\n",
    "similarityMatCosine = np.load(os.path.join(dataPath, 'cosine_sim_mat.npy'))"
   ]
  },
  {
   "cell_type": "code",
   "execution_count": null,
   "metadata": {},
   "outputs": [],
   "source": [
    "recipeName = finalData.unique_name[5]"
   ]
  },
  {
   "cell_type": "code",
   "execution_count": null,
   "metadata": {},
   "outputs": [],
   "source": [
    "recipeName"
   ]
  },
  {
   "cell_type": "code",
   "execution_count": 10,
   "metadata": {},
   "outputs": [
    {
     "data": {
      "text/plain": [
       "87854                        Fresh Fruit Coffeecake 1\n",
       "70679                               Chicken Piccata 7\n",
       "65921                            Fruity Chutney Dip 1\n",
       "74003                  Barbecue St. Louis Pork Ribs 1\n",
       "87491                             Copycat Twix Bars 1\n",
       "37969                                Roasted Garlic 2\n",
       "4911                                  Pumpkin Puree 1\n",
       "55787    Romaine Hearts with Red Pepper Vinaigrette 1\n",
       "59149           Strawberry Cream Cheese Mousse Tart 1\n",
       "65124                                   Monkey Chow 1\n",
       "Name: unique_name, dtype: object"
      ]
     },
     "execution_count": 10,
     "metadata": {},
     "output_type": "execute_result"
    }
   ],
   "source": [
    "get_recommendations(recipeName, similarityMatEuclidean, indices=indices,\n",
    "                        topN=10, data=finalData)"
   ]
  },
  {
   "cell_type": "code",
   "execution_count": 10,
   "metadata": {},
   "outputs": [
    {
     "data": {
      "text/plain": [
       "87854                        Fresh Fruit Coffeecake 1\n",
       "70679                               Chicken Piccata 7\n",
       "65921                            Fruity Chutney Dip 1\n",
       "74003                  Barbecue St. Louis Pork Ribs 1\n",
       "87491                             Copycat Twix Bars 1\n",
       "37969                                Roasted Garlic 2\n",
       "4911                                  Pumpkin Puree 1\n",
       "55787    Romaine Hearts with Red Pepper Vinaigrette 1\n",
       "59149           Strawberry Cream Cheese Mousse Tart 1\n",
       "65124                                   Monkey Chow 1\n",
       "Name: unique_name, dtype: object"
      ]
     },
     "execution_count": 10,
     "metadata": {},
     "output_type": "execute_result"
    }
   ],
   "source": [
    "get_recommendations(recipeName, similarityMatManhatten, indices=indices,\n",
    "                        topN=10, data=finalData)"
   ]
  },
  {
   "cell_type": "code",
   "execution_count": 21,
   "metadata": {},
   "outputs": [
    {
     "data": {
      "text/plain": [
       "65362                       Smoked Salmon 2\n",
       "70159               Homemade Tartar Sauce 1\n",
       "86725                 Chocolate Truffles 10\n",
       "52861    Mini Orange Chocolate Chunk Cake 1\n",
       "58865               Strawberry Bruschetta 1\n",
       "63888                           Ramen Pho 1\n",
       "58780                  Strawberry Tamales 1\n",
       "34772               Braised White Cabbage 1\n",
       "73730                    Bertolli Lasagna 1\n",
       "59141         Strawberry Lemonade Slushes 1\n",
       "Name: unique_name, dtype: object"
      ]
     },
     "execution_count": 21,
     "metadata": {},
     "output_type": "execute_result"
    }
   ],
   "source": [
    "get_recommendations(recipeName, similarityMatCosine, indices=indices,\n",
    "                        topN=10, data=finalData)"
   ]
  }
 ],
 "metadata": {
  "kernelspec": {
   "display_name": "Python [conda env:capstone]",
   "language": "python",
   "name": "conda-env-capstone-py"
  },
  "language_info": {
   "codemirror_mode": {
    "name": "ipython",
    "version": 3
   },
   "file_extension": ".py",
   "mimetype": "text/x-python",
   "name": "python",
   "nbconvert_exporter": "python",
   "pygments_lexer": "ipython3",
   "version": "3.6.5"
  }
 },
 "nbformat": 4,
 "nbformat_minor": 2
}

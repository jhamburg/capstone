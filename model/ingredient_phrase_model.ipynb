{
 "cells": [
  {
   "cell_type": "markdown",
   "metadata": {},
   "source": [
    "## Ingredient Phrase Model\n",
    "\n",
    "This program will create a model that is designed to separately identify food name, quantity and other information as Named Entity Recognition tags from a word ingredient list."
   ]
  },
  {
   "cell_type": "code",
   "execution_count": 1,
   "metadata": {},
   "outputs": [
    {
     "data": {
      "application/javascript": [
       "IPython.notebook.set_autosave_interval(0)"
      ]
     },
     "metadata": {},
     "output_type": "display_data"
    },
    {
     "name": "stdout",
     "output_type": "stream",
     "text": [
      "Autosave disabled\n"
     ]
    }
   ],
   "source": [
    "%autosave 0"
   ]
  },
  {
   "cell_type": "code",
   "execution_count": 2,
   "metadata": {},
   "outputs": [
    {
     "name": "stderr",
     "output_type": "stream",
     "text": [
      "C:\\Users\\Hamburg\\Anaconda3\\envs\\tensorflow2\\lib\\site-packages\\h5py\\__init__.py:36: FutureWarning: Conversion of the second argument of issubdtype from `float` to `np.floating` is deprecated. In future, it will be treated as `np.float64 == np.dtype(float).type`.\n",
      "  from ._conv import register_converters as _register_converters\n",
      "Using TensorFlow backend.\n"
     ]
    }
   ],
   "source": [
    "import pandas as pd\n",
    "import numpy as np\n",
    "import os\n",
    "import pickle\n",
    "\n",
    "# Generate training data using NY Times ingredient phrase tagger\n",
    "from ingredient_phrase_tagger.training.cli import Cli\n",
    "from ingredient_phrase_tagger.training import utils, reshape\n",
    "\n",
    "from sklearn.model_selection import train_test_split\n",
    "\n",
    "# Model libraries\n",
    "from tagger_model import *\n",
    "\n",
    "from IPython.core.debugger import set_trace"
   ]
  },
  {
   "cell_type": "code",
   "execution_count": 3,
   "metadata": {},
   "outputs": [],
   "source": [
    "# Some default parameters\n",
    "n_word_embedding_nodes=300\n",
    "n_tag_embedding_nodes=150\n",
    "n_RNN_nodes=400\n",
    "n_dense_nodes=200\n",
    "\n",
    "dataPath = '../data'"
   ]
  },
  {
   "cell_type": "code",
   "execution_count": 4,
   "metadata": {},
   "outputs": [],
   "source": [
    "filename = 'cleaned_nyt_ingred_data.pkl'\n",
    "\n",
    "# reshape.read_and_save_raw_data(dataPath, filename)\n",
    "cleaned_dat = pd.read_pickle(os.path.join(dataPath, filename))"
   ]
  },
  {
   "cell_type": "code",
   "execution_count": 5,
   "metadata": {},
   "outputs": [],
   "source": [
    "train, test = train_test_split(cleaned_dat, test_size = .2)"
   ]
  },
  {
   "cell_type": "code",
   "execution_count": 6,
   "metadata": {},
   "outputs": [
    {
     "name": "stderr",
     "output_type": "stream",
     "text": [
      "C:\\Users\\Hamburg\\Anaconda3\\envs\\tensorflow2\\lib\\site-packages\\ipykernel\\__main__.py:6: SettingWithCopyWarning: \n",
      "A value is trying to be set on a copy of a slice from a DataFrame.\n",
      "Try using .loc[row_indexer,col_indexer] = value instead\n",
      "\n",
      "See the caveats in the documentation: http://pandas.pydata.org/pandas-docs/stable/indexing.html#indexing-view-versus-copy\n"
     ]
    }
   ],
   "source": [
    "# Create lexicon\n",
    "lexicon = lexiconTransformer(words_min_freq=2, unknown_tag_token='OTHER')\n",
    "\n",
    "lexicon.fit(train.sents, train.tags)\n",
    "\n",
    "train['sent_indx'], train['tag_indx'] = lexicon.transform(train.sents, train.tags)\n",
    "\n",
    "# Get length of longest sequence\n",
    "max_seq_len = get_max_seq_len(train['sent_indx'])\n",
    "\n",
    "#Add one to max length for offsetting sequence by 1\n",
    "train_padded_words = pad_idx_seqs(train['sent_indx'], \n",
    "                                  max_seq_len + 1) \n",
    "\n",
    "train_padded_tags = pad_idx_seqs(train['tag_indx'],\n",
    "                                 max_seq_len + 1, value=1)\n",
    "\n",
    "# Shift tags by 1 for training since we should use tag of previous \n",
    "# iteration in next iteration\n",
    "shifted_train_padded_tags = np.insert(train_padded_tags, 0, 1, axis=1)[:, :-1]"
   ]
  },
  {
   "cell_type": "code",
   "execution_count": 7,
   "metadata": {},
   "outputs": [],
   "source": [
    "# Convert to one-hot vector encoding for y\n",
    "# train_y = [to_categorical(i, num_classes=len(lexicon.tags_lexicon) + 1) for i in train_padded_tags]"
   ]
  },
  {
   "cell_type": "code",
   "execution_count": null,
   "metadata": {},
   "outputs": [],
   "source": [
    "mod_save_name = 'ingredient_model_crf_tmp1'\n",
    "crf_mod = True"
   ]
  },
  {
   "cell_type": "code",
   "execution_count": null,
   "metadata": {
    "scrolled": true
   },
   "outputs": [
    {
     "name": "stdout",
     "output_type": "stream",
     "text": [
      "__________________________________________________________________________________________________\n",
      "Layer (type)                    Output Shape         Param #     Connected to                     \n",
      "==================================================================================================\n",
      "word_input_layer (InputLayer)   (None, 56)           0                                            \n",
      "__________________________________________________________________________________________________\n",
      "tag_input_layer (InputLayer)    (None, 56)           0                                            \n",
      "__________________________________________________________________________________________________\n",
      "word_embedding_layer (Embedding (None, 56, 300)      1690800     word_input_layer[0][0]           \n",
      "__________________________________________________________________________________________________\n",
      "tag_embedding_layer (Embedding) (None, 56, 150)      1500        tag_input_layer[0][0]            \n",
      "__________________________________________________________________________________________________\n",
      "concat_embedding_layer (Concate (None, 56, 450)      0           word_embedding_layer[0][0]       \n",
      "                                                                 tag_embedding_layer[0][0]        \n",
      "__________________________________________________________________________________________________\n",
      "dropout_1 (Dropout)             (None, 56, 450)      0           concat_embedding_layer[0][0]     \n",
      "__________________________________________________________________________________________________\n",
      "bidirectional_1 (Bidirectional) (None, 56, 800)      2723200     dropout_1[0][0]                  \n",
      "__________________________________________________________________________________________________\n",
      "dropout_2 (Dropout)             (None, 56, 800)      0           bidirectional_1[0][0]            \n",
      "__________________________________________________________________________________________________\n",
      "dense_layer (TimeDistributed)   (None, 56, 200)      160200      dropout_2[0][0]                  \n",
      "__________________________________________________________________________________________________\n",
      "output_layer (CRF)              (None, 56, 10)       2130        dense_layer[0][0]                \n",
      "==================================================================================================\n",
      "Total params: 4,577,830\n",
      "Trainable params: 4,577,830\n",
      "Non-trainable params: 0\n",
      "__________________________________________________________________________________________________\n",
      "Train on 128925 samples, validate on 14325 samples\n",
      "Epoch 1/200\n"
     ]
    }
   ],
   "source": [
    "ingredient_model = run_training_model(train_padded_words, shifted_train_padded_tags, \n",
    "                                      train_padded_tags, mod_save_name, lexicon, crf=crf_mod,\n",
    "                                      print_summary=True, batch_size=256, epochs=200,\n",
    "                                      n_word_embedding_nodes=n_word_embedding_nodes,\n",
    "                                      n_tag_embedding_nodes=n_tag_embedding_nodes,\n",
    "                                      n_RNN_nodes=n_RNN_nodes, \n",
    "                                      n_dense_nodes=n_dense_nodes)"
   ]
  },
  {
   "cell_type": "code",
   "execution_count": null,
   "metadata": {},
   "outputs": [],
   "source": [
    "test['sent_indx'], test['tag_indx'] = lexicon.transform(test.sents, test.tags)"
   ]
  },
  {
   "cell_type": "code",
   "execution_count": null,
   "metadata": {},
   "outputs": [],
   "source": [
    "test_mod = create_test_model(mod_save_name, lexicon, crf=crf_mod, \n",
    "                             n_word_embedding_nodes=n_word_embedding_nodes,\n",
    "                             n_tag_embedding_nodes=n_tag_embedding_nodes,\n",
    "                             n_RNN_nodes=n_RNN_nodes, \n",
    "                             n_dense_nodes=n_dense_nodes)"
   ]
  },
  {
   "cell_type": "code",
   "execution_count": null,
   "metadata": {
    "scrolled": true
   },
   "outputs": [],
   "source": [
    "preds = predict_new_tag(test_mod, test, lexicon)"
   ]
  },
  {
   "cell_type": "code",
   "execution_count": null,
   "metadata": {},
   "outputs": [],
   "source": [
    "evaluate_model(preds, test, print_sample=True)"
   ]
  }
 ],
 "metadata": {
  "kernelspec": {
   "display_name": "Python [conda env:tensorflow2]",
   "language": "python",
   "name": "conda-env-tensorflow2-py"
  },
  "language_info": {
   "codemirror_mode": {
    "name": "ipython",
    "version": 3
   },
   "file_extension": ".py",
   "mimetype": "text/x-python",
   "name": "python",
   "nbconvert_exporter": "python",
   "pygments_lexer": "ipython3",
   "version": "3.6.4"
  }
 },
 "nbformat": 4,
 "nbformat_minor": 2
}

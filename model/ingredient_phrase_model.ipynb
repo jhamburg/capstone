{
 "cells": [
  {
   "cell_type": "markdown",
   "metadata": {},
   "source": [
    "## Ingredient Phrase Model\n",
    "\n",
    "This program will create a model that is designed to separately identify food name, quantity and other information as Named Entity Recognition tags from a word ingredient list."
   ]
  },
  {
   "cell_type": "code",
   "execution_count": 1,
   "metadata": {},
   "outputs": [
    {
     "name": "stderr",
     "output_type": "stream",
     "text": [
      "/home/ubuntu/anaconda3/envs/tensorflow_p36/lib/python3.6/site-packages/matplotlib/__init__.py:1067: UserWarning: Duplicate key in file \"/home/ubuntu/.config/matplotlib/matplotlibrc\", line #2\n",
      "  (fname, cnt))\n",
      "/home/ubuntu/anaconda3/envs/tensorflow_p36/lib/python3.6/site-packages/matplotlib/__init__.py:1067: UserWarning: Duplicate key in file \"/home/ubuntu/.config/matplotlib/matplotlibrc\", line #3\n",
      "  (fname, cnt))\n",
      "/home/ubuntu/anaconda3/envs/tensorflow_p36/lib/python3.6/site-packages/h5py/__init__.py:36: FutureWarning: Conversion of the second argument of issubdtype from `float` to `np.floating` is deprecated. In future, it will be treated as `np.float64 == np.dtype(float).type`.\n",
      "  from ._conv import register_converters as _register_converters\n",
      "Using TensorFlow backend.\n"
     ]
    }
   ],
   "source": [
    "import pandas as pd\n",
    "import numpy as np\n",
    "import os\n",
    "import pickle\n",
    "\n",
    "# Generate training data using NY Times ingredient phrase tagger\n",
    "from ingredient_phrase_tagger.training.cli import Cli\n",
    "from ingredient_phrase_tagger.training import utils, reshape\n",
    "\n",
    "from sklearn.model_selection import train_test_split\n",
    "\n",
    "# Model libraries\n",
    "from tagger_model import *\n",
    "\n",
    "from IPython.core.debugger import set_trace"
   ]
  },
  {
   "cell_type": "code",
   "execution_count": 2,
   "metadata": {},
   "outputs": [],
   "source": [
    "# Some default parameters\n",
    "n_word_embedding_nodes=300\n",
    "n_tag_embedding_nodes=150\n",
    "n_RNN_nodes=400\n",
    "n_dense_nodes=200\n",
    "\n",
    "dataPath = '../data'"
   ]
  },
  {
   "cell_type": "code",
   "execution_count": 3,
   "metadata": {},
   "outputs": [],
   "source": [
    "filename = 'cleaned_nyt_ingred_data.pkl'\n",
    "\n",
    "# reshape.read_and_save_raw_data(dataPath, filename)\n",
    "cleaned_dat = pd.read_pickle(os.path.join(dataPath, filename))"
   ]
  },
  {
   "cell_type": "code",
   "execution_count": 4,
   "metadata": {},
   "outputs": [],
   "source": [
    "train, test = train_test_split(cleaned_dat, test_size = .2)"
   ]
  },
  {
   "cell_type": "code",
   "execution_count": 5,
   "metadata": {},
   "outputs": [
    {
     "name": "stderr",
     "output_type": "stream",
     "text": [
      "/home/ubuntu/anaconda3/envs/tensorflow_p36/lib/python3.6/site-packages/ipykernel/__main__.py:6: SettingWithCopyWarning: \n",
      "A value is trying to be set on a copy of a slice from a DataFrame.\n",
      "Try using .loc[row_indexer,col_indexer] = value instead\n",
      "\n",
      "See the caveats in the documentation: http://pandas.pydata.org/pandas-docs/stable/indexing.html#indexing-view-versus-copy\n"
     ]
    }
   ],
   "source": [
    "# Create lexicon\n",
    "lexicon = lexiconTransformer(words_min_freq=2, unknown_tag_token='OTHER')\n",
    "\n",
    "lexicon.fit(train.sents, train.tags)\n",
    "\n",
    "train['sent_indx'], train['tag_indx'] = lexicon.transform(train.sents, train.tags)\n",
    "\n",
    "# Get length of longest sequence\n",
    "max_seq_len = get_max_seq_len(train['sent_indx'])\n",
    "\n",
    "#Add one to max length for offsetting sequence by 1\n",
    "train_padded_words = pad_idx_seqs(train['sent_indx'], \n",
    "                                  max_seq_len + 1) \n",
    "\n",
    "train_padded_tags = pad_idx_seqs(train['tag_indx'],\n",
    "                                 max_seq_len + 1)\n",
    "\n",
    "# Shift tags by 1 for training since we should use tag of previous \n",
    "# iteration in next iteration\n",
    "shifted_train_padded_tags = np.insert(train_padded_tags, 0, 1, axis=1)[:, :-1]"
   ]
  },
  {
   "cell_type": "code",
   "execution_count": 6,
   "metadata": {},
   "outputs": [],
   "source": [
    "# Convert to one-hot vector encoding for y\n",
    "# train_y = [to_categorical(i, num_classes=len(lexicon.tags_lexicon) + 1) for i in train_padded_tags]"
   ]
  },
  {
   "cell_type": "code",
   "execution_count": 7,
   "metadata": {},
   "outputs": [],
   "source": [
    "mod_save_name = 'ingredient_model_crf_wordOnly'\n",
    "crf_mod = True"
   ]
  },
  {
   "cell_type": "code",
   "execution_count": null,
   "metadata": {
    "scrolled": true
   },
   "outputs": [
    {
     "name": "stdout",
     "output_type": "stream",
     "text": [
      "_________________________________________________________________\n",
      "Layer (type)                 Output Shape              Param #   \n",
      "=================================================================\n",
      "word_input_layer (InputLayer (None, 56)                0         \n",
      "_________________________________________________________________\n",
      "word_embedding_layer (Embedd (None, 56, 300)           1691100   \n",
      "_________________________________________________________________\n",
      "bidirectional_1 (Bidirection (None, 56, 800)           1682400   \n",
      "_________________________________________________________________\n",
      "dense_layer (TimeDistributed (None, 56, 200)           160200    \n",
      "_________________________________________________________________\n",
      "output_layer (CRF)           (None, 56, 10)            2130      \n",
      "=================================================================\n",
      "Total params: 3,535,830\n",
      "Trainable params: 3,535,830\n",
      "Non-trainable params: 0\n",
      "_________________________________________________________________\n",
      "Train on 114600 samples, validate on 28650 samples\n",
      "Epoch 1/200\n",
      "114600/114600 [==============================] - 128s 1ms/step - loss: 25.6574 - acc: 0.7601 - val_loss: 25.5669 - val_acc: 0.7980\n",
      "\n",
      "Epoch 00001: saving model to models/ingredient_model_crf_wordOnly.hdf5\n",
      "Epoch 2/200\n",
      "114600/114600 [==============================] - 126s 1ms/step - loss: 25.4877 - acc: 0.8095 - val_loss: 25.5209 - val_acc: 0.8066\n",
      "\n",
      "Epoch 00002: saving model to models/ingredient_model_crf_wordOnly.hdf5\n",
      "Epoch 3/200\n",
      "114600/114600 [==============================] - 126s 1ms/step - loss: 25.4442 - acc: 0.8210 - val_loss: 25.4903 - val_acc: 0.8076\n",
      "\n",
      "Epoch 00003: saving model to models/ingredient_model_crf_wordOnly.hdf5\n",
      "Epoch 4/200\n",
      "114600/114600 [==============================] - 126s 1ms/step - loss: 25.4176 - acc: 0.8272 - val_loss: 25.4778 - val_acc: 0.8105\n",
      "\n",
      "Epoch 00004: saving model to models/ingredient_model_crf_wordOnly.hdf5\n",
      "Epoch 5/200\n",
      " 76032/114600 [==================>...........] - ETA: 38s - loss: 25.3789 - acc: 0.8324"
     ]
    }
   ],
   "source": [
    "ingredient_model = run_training_model(train_padded_words, train_padded_tags, \n",
    "                                      train_padded_tags, mod_save_name, lexicon, crf=crf_mod,\n",
    "                                      print_summary=True, batch_size=256, epochs=200,\n",
    "                                      n_word_embedding_nodes=n_word_embedding_nodes,\n",
    "                                      n_tag_embedding_nodes=n_tag_embedding_nodes,\n",
    "                                      n_RNN_nodes=n_RNN_nodes, \n",
    "                                      n_dense_nodes=n_dense_nodes)"
   ]
  },
  {
   "cell_type": "code",
   "execution_count": null,
   "metadata": {},
   "outputs": [],
   "source": [
    "test['sent_indx'], test['tag_indx'] = lexicon.transform(test.sents, test.tags)"
   ]
  },
  {
   "cell_type": "code",
   "execution_count": null,
   "metadata": {},
   "outputs": [],
   "source": [
    "test_mod = create_test_model(mod_save_name, lexicon, crf=crf_mod, \n",
    "                             n_word_embedding_nodes=n_word_embedding_nodes,\n",
    "                             n_tag_embedding_nodes=n_tag_embedding_nodes,\n",
    "                             n_RNN_nodes=n_RNN_nodes, \n",
    "                             n_dense_nodes=n_dense_nodes)"
   ]
  },
  {
   "cell_type": "code",
   "execution_count": null,
   "metadata": {
    "scrolled": true
   },
   "outputs": [],
   "source": [
    "preds = predict_new_tag(test_mod, test[:50], lexicon)"
   ]
  },
  {
   "cell_type": "code",
   "execution_count": null,
   "metadata": {},
   "outputs": [],
   "source": [
    "evaluate_model(preds, test[:50], print_sample=True)"
   ]
  },
  {
   "cell_type": "code",
   "execution_count": null,
   "metadata": {},
   "outputs": [],
   "source": []
  }
 ],
 "metadata": {
  "kernelspec": {
   "display_name": "Environment (conda_tensorflow_p36)",
   "language": "python",
   "name": "conda_tensorflow_p36"
  },
  "language_info": {
   "codemirror_mode": {
    "name": "ipython",
    "version": 3
   },
   "file_extension": ".py",
   "mimetype": "text/x-python",
   "name": "python",
   "nbconvert_exporter": "python",
   "pygments_lexer": "ipython3",
   "version": "3.6.4"
  }
 },
 "nbformat": 4,
 "nbformat_minor": 2
}

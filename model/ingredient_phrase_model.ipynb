{
 "cells": [
  {
   "cell_type": "markdown",
   "metadata": {},
   "source": [
    "## Ingredient Phrase Model\n",
    "\n",
    "This program will create a model that is designed to separately identify food name, quantity and other information as Named Entity Recognition tags from a word ingredient list."
   ]
  },
  {
   "cell_type": "code",
   "execution_count": 1,
   "metadata": {},
   "outputs": [
    {
     "name": "stderr",
     "output_type": "stream",
     "text": [
      "/home/ubuntu/anaconda3/envs/tensorflow_p36/lib/python3.6/site-packages/matplotlib/__init__.py:1067: UserWarning: Duplicate key in file \"/home/ubuntu/.config/matplotlib/matplotlibrc\", line #2\n",
      "  (fname, cnt))\n",
      "/home/ubuntu/anaconda3/envs/tensorflow_p36/lib/python3.6/site-packages/matplotlib/__init__.py:1067: UserWarning: Duplicate key in file \"/home/ubuntu/.config/matplotlib/matplotlibrc\", line #3\n",
      "  (fname, cnt))\n",
      "/home/ubuntu/anaconda3/envs/tensorflow_p36/lib/python3.6/site-packages/h5py/__init__.py:36: FutureWarning: Conversion of the second argument of issubdtype from `float` to `np.floating` is deprecated. In future, it will be treated as `np.float64 == np.dtype(float).type`.\n",
      "  from ._conv import register_converters as _register_converters\n",
      "Using TensorFlow backend.\n"
     ]
    }
   ],
   "source": [
    "import pandas as pd\n",
    "import numpy as np\n",
    "import os\n",
    "import pickle\n",
    "\n",
    "# Generate training data using NY Times ingredient phrase tagger\n",
    "from ingredient_phrase_tagger.training.cli import Cli\n",
    "from ingredient_phrase_tagger.training import utils, reshape\n",
    "\n",
    "from sklearn.model_selection import train_test_split\n",
    "\n",
    "# Model libraries\n",
    "from tagger_model import *\n",
    "\n",
    "from IPython.core.debugger import set_trace"
   ]
  },
  {
   "cell_type": "code",
   "execution_count": 2,
   "metadata": {},
   "outputs": [],
   "source": [
    "# Some default parameters\n",
    "n_word_embedding_nodes=300\n",
    "n_tag_embedding_nodes=150\n",
    "n_RNN_nodes=400\n",
    "n_dense_nodes=200\n",
    "\n",
    "dataPath = '../data'"
   ]
  },
  {
   "cell_type": "code",
   "execution_count": 3,
   "metadata": {},
   "outputs": [],
   "source": [
    "filename = 'cleaned_nyt_ingred_data.pkl'\n",
    "\n",
    "# reshape.read_and_save_raw_data(dataPath, filename)\n",
    "cleaned_dat = pd.read_pickle(os.path.join(dataPath, filename))"
   ]
  },
  {
   "cell_type": "code",
   "execution_count": 4,
   "metadata": {},
   "outputs": [],
   "source": [
    "train, test = train_test_split(cleaned_dat, test_size = .2)"
   ]
  },
  {
   "cell_type": "code",
   "execution_count": 5,
   "metadata": {},
   "outputs": [
    {
     "name": "stderr",
     "output_type": "stream",
     "text": [
      "/home/ubuntu/anaconda3/envs/tensorflow_p36/lib/python3.6/site-packages/ipykernel/__main__.py:6: SettingWithCopyWarning: \n",
      "A value is trying to be set on a copy of a slice from a DataFrame.\n",
      "Try using .loc[row_indexer,col_indexer] = value instead\n",
      "\n",
      "See the caveats in the documentation: http://pandas.pydata.org/pandas-docs/stable/indexing.html#indexing-view-versus-copy\n"
     ]
    }
   ],
   "source": [
    "# Create lexicon\n",
    "lexicon = lexiconTransformer(words_min_freq=2, unknown_tag_token='OTHER')\n",
    "\n",
    "lexicon.fit(train.sents, train.tags)\n",
    "\n",
    "train['sent_indx'], train['tag_indx'] = lexicon.transform(train.sents, train.tags)\n",
    "\n",
    "# Get length of longest sequence\n",
    "max_seq_len = get_max_seq_len(train['sent_indx'])\n",
    "\n",
    "#Add one to max length for offsetting sequence by 1\n",
    "train_padded_words = pad_idx_seqs(train['sent_indx'], \n",
    "                                  max_seq_len + 1) \n",
    "\n",
    "train_padded_tags = pad_idx_seqs(train['tag_indx'],\n",
    "                                 max_seq_len + 1)\n",
    "\n",
    "# Shift tags by 1 for training since we should use tag of previous \n",
    "# iteration in next iteration\n",
    "shifted_train_padded_tags = np.insert(train_padded_tags, 0, 1, axis=1)[:, :-1]"
   ]
  },
  {
   "cell_type": "code",
   "execution_count": 6,
   "metadata": {},
   "outputs": [],
   "source": [
    "# Convert to one-hot vector encoding for y\n",
    "# train_y = [to_categorical(i, num_classes=len(lexicon.tags_lexicon) + 1) for i in train_padded_tags]"
   ]
  },
  {
   "cell_type": "code",
   "execution_count": 7,
   "metadata": {},
   "outputs": [],
   "source": [
    "mod_save_name = 'ingredient_model_crf_wordOnly'\n",
    "crf_mod = True"
   ]
  },
  {
   "cell_type": "code",
   "execution_count": 8,
   "metadata": {
    "scrolled": true
   },
   "outputs": [
    {
     "ename": "NameError",
     "evalue": "name 'dense_layer' is not defined",
     "output_type": "error",
     "traceback": [
      "\u001b[0;31m---------------------------------------------------------------------------\u001b[0m",
      "\u001b[0;31mNameError\u001b[0m                                 Traceback (most recent call last)",
      "\u001b[0;32m<ipython-input-8-6c3a04243d5f>\u001b[0m in \u001b[0;36m<module>\u001b[0;34m()\u001b[0m\n\u001b[1;32m      5\u001b[0m                                       \u001b[0mn_tag_embedding_nodes\u001b[0m\u001b[0;34m=\u001b[0m\u001b[0mn_tag_embedding_nodes\u001b[0m\u001b[0;34m,\u001b[0m\u001b[0;34m\u001b[0m\u001b[0m\n\u001b[1;32m      6\u001b[0m                                       \u001b[0mn_RNN_nodes\u001b[0m\u001b[0;34m=\u001b[0m\u001b[0mn_RNN_nodes\u001b[0m\u001b[0;34m,\u001b[0m\u001b[0;34m\u001b[0m\u001b[0m\n\u001b[0;32m----> 7\u001b[0;31m                                       n_dense_nodes=n_dense_nodes)\n\u001b[0m",
      "\u001b[0;32m~/capstone/model/tagger_model/model.py\u001b[0m in \u001b[0;36mrun_training_model\u001b[0;34m(pad_words, pad_tags, y_dat, saveName, lexicon, batch_size, epochs, val_split, print_summary, savePath, n_word_embedding_nodes, n_tag_embedding_nodes, n_RNN_nodes, n_dense_nodes, crf)\u001b[0m\n\u001b[1;32m     98\u001b[0m                              \u001b[0mn_RNN_nodes\u001b[0m\u001b[0;34m=\u001b[0m\u001b[0mn_RNN_nodes\u001b[0m\u001b[0;34m,\u001b[0m\u001b[0;34m\u001b[0m\u001b[0m\n\u001b[1;32m     99\u001b[0m                              \u001b[0mn_dense_nodes\u001b[0m\u001b[0;34m=\u001b[0m\u001b[0mn_dense_nodes\u001b[0m\u001b[0;34m,\u001b[0m\u001b[0;34m\u001b[0m\u001b[0m\n\u001b[0;32m--> 100\u001b[0;31m                              crf=crf)\n\u001b[0m\u001b[1;32m    101\u001b[0m \u001b[0;34m\u001b[0m\u001b[0m\n\u001b[1;32m    102\u001b[0m     \u001b[0;32mif\u001b[0m \u001b[0mprint_summary\u001b[0m\u001b[0;34m:\u001b[0m\u001b[0;34m\u001b[0m\u001b[0m\n",
      "\u001b[0;32m~/capstone/model/tagger_model/model.py\u001b[0m in \u001b[0;36mcreate_model\u001b[0;34m(seq_input_len, n_word_input_nodes, n_tag_input_nodes, n_word_embedding_nodes, n_tag_embedding_nodes, n_RNN_nodes, n_dense_nodes, stateful, batch_size, recurrent_dropout, crf, drop_out)\u001b[0m\n\u001b[1;32m     63\u001b[0m         crf = CRF(units=n_tag_input_nodes,\n\u001b[1;32m     64\u001b[0m                   sparse_target=True, name='output_layer')\n\u001b[0;32m---> 65\u001b[0;31m         \u001b[0moutput_layer\u001b[0m \u001b[0;34m=\u001b[0m \u001b[0mcrf\u001b[0m\u001b[0;34m(\u001b[0m\u001b[0mdense_layer\u001b[0m\u001b[0;34m)\u001b[0m\u001b[0;34m\u001b[0m\u001b[0m\n\u001b[0m\u001b[1;32m     66\u001b[0m         \u001b[0mloss\u001b[0m \u001b[0;34m=\u001b[0m \u001b[0mcrf\u001b[0m\u001b[0;34m.\u001b[0m\u001b[0mloss_function\u001b[0m\u001b[0;34m\u001b[0m\u001b[0m\n\u001b[1;32m     67\u001b[0m         \u001b[0macc\u001b[0m \u001b[0;34m=\u001b[0m \u001b[0mcrf\u001b[0m\u001b[0;34m.\u001b[0m\u001b[0maccuracy\u001b[0m\u001b[0;34m\u001b[0m\u001b[0m\n",
      "\u001b[0;31mNameError\u001b[0m: name 'dense_layer' is not defined"
     ]
    }
   ],
   "source": [
    "ingredient_model = run_training_model(train_padded_words, train_padded_tags, \n",
    "                                      train_padded_tags, mod_save_name, lexicon, crf=crf_mod,\n",
    "                                      print_summary=True, batch_size=256, epochs=200,\n",
    "                                      n_word_embedding_nodes=n_word_embedding_nodes,\n",
    "                                      n_tag_embedding_nodes=n_tag_embedding_nodes,\n",
    "                                      n_RNN_nodes=n_RNN_nodes, \n",
    "                                      n_dense_nodes=n_dense_nodes)"
   ]
  },
  {
   "cell_type": "code",
   "execution_count": null,
   "metadata": {},
   "outputs": [],
   "source": [
    "test['sent_indx'], test['tag_indx'] = lexicon.transform(test.sents, test.tags)"
   ]
  },
  {
   "cell_type": "code",
   "execution_count": null,
   "metadata": {},
   "outputs": [],
   "source": [
    "test_mod = create_test_model(mod_save_name, lexicon, crf=crf_mod, \n",
    "                             n_word_embedding_nodes=n_word_embedding_nodes,\n",
    "                             n_tag_embedding_nodes=n_tag_embedding_nodes,\n",
    "                             n_RNN_nodes=n_RNN_nodes, \n",
    "                             n_dense_nodes=n_dense_nodes)"
   ]
  },
  {
   "cell_type": "code",
   "execution_count": null,
   "metadata": {
    "scrolled": true
   },
   "outputs": [],
   "source": [
    "preds = predict_new_tag(test_mod, test[:50], lexicon)"
   ]
  },
  {
   "cell_type": "code",
   "execution_count": null,
   "metadata": {},
   "outputs": [],
   "source": [
    "evaluate_model(preds, test[:50], print_sample=True)"
   ]
  },
  {
   "cell_type": "code",
   "execution_count": null,
   "metadata": {},
   "outputs": [],
   "source": []
  }
 ],
 "metadata": {
  "kernelspec": {
   "display_name": "Environment (conda_tensorflow_p36)",
   "language": "python",
   "name": "conda_tensorflow_p36"
  },
  "language_info": {
   "codemirror_mode": {
    "name": "ipython",
    "version": 3
   },
   "file_extension": ".py",
   "mimetype": "text/x-python",
   "name": "python",
   "nbconvert_exporter": "python",
   "pygments_lexer": "ipython3",
   "version": "3.6.4"
  }
 },
 "nbformat": 4,
 "nbformat_minor": 2
}
